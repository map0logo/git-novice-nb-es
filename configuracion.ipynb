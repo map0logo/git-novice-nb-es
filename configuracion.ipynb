{
 "cells": [
  {
   "cell_type": "markdown",
   "metadata": {},
   "source": [
    "# Configurando Git\n",
    "\n",
    "Cuando usamos Git por primera vez en una computadora necesitamos configurar algunas cosas.\n",
    "\n",
    "Aquí está como Dracula configuró su nuevo laptop:\n",
    "\n",
    "```bash\n",
    "git config --global user.name \"Vlad Dracula\"\n",
    "git config --global user.email \"vlad@tran.sylvan.ia\"\n",
    "git config --global color.ui \"auto\"\n",
    "```\n",
    "\n",
    "(Por favor utiliza tu propio nombre y dirección email en lugar del de Dracula.)\n",
    "\n",
    "Él también configuró su editor de texto favorito, siguiendo esta tabla:\n",
    "\n",
    "| Editor             | Comando de configuración                         |\n",
    "|:-------------------|:-------------------------------------------------|\n",
    "| nano               | `git config --global core.editor \"nano -w\"`    |\n",
    "| Text Wrangler      | `git config --global core.editor \"edit -w\"`    |\n",
    "| Sublime Text (Mac) | `git config --global core.editor \"subl -n -w\"` |\n",
    "| Sublime Text (Win) | `git config --global core.editor \"'c:/program files/sublime text 2/sublime_text.exe' -w\"` |\n",
    "| Notepad++ (Win)    | `git config --global core.editor \"'c:/program files (x86)/Notepad++/notepad++.exe' -multiInst -notabbar -nosession -noPlugin\"`|\n",
    "| Kate (Linux)       | `git config --global core.editor \"kate\"`       |\n",
    "| Gedit (Linux)      | `git config --global core.editor \"gedit -s -w\"`   |\n",
    "\n",
    "Los comandos de Git se escriben `git verbo`, donde `verbo` es lo que queremos que haga.\n",
    "En este caso, le estamos diciendo a Git:\n",
    "\n",
    "*   nuestro nombre y dirección email,\n",
    "*   que coloree la salida,\n",
    "*   cual es nuestro editor de texto favorito, y\n",
    "*   que queremos utilizar estas configuraciones globalmente (esto es, para todos los proyectos),\n",
    "\n",
    "Solo necesitamos ejecutar los cuatro comandos de arriba una sola vez: la bandera `--global` le dice a Git\n",
    "que use estas configuraciones para todos los proyectos, en tu cuenta de usuario, en esta computadora.\n",
    "\n",
    "Puedes verificar tu configuración en cualquier momento:\n",
    "\n",
    "```bash\n",
    "git config --list\n",
    "```\n",
    "\n",
    "Puedes cambiar tu configuración tantas veces como quieras: tan solo utiliza los mismos comandos para escoger otro editor o actualizar tu dirección de email."
   ]
  },
  {
   "cell_type": "code",
   "execution_count": null,
   "metadata": {
    "collapsed": true
   },
   "outputs": [],
   "source": []
  }
 ],
 "metadata": {
  "kernelspec": {
   "display_name": "Python 3",
   "language": "python",
   "name": "python3"
  },
  "language_info": {
   "codemirror_mode": {
    "name": "ipython",
    "version": 3
   },
   "file_extension": ".py",
   "mimetype": "text/x-python",
   "name": "python",
   "nbconvert_exporter": "python",
   "pygments_lexer": "ipython3",
   "version": "3.5.1"
  }
 },
 "nbformat": 4,
 "nbformat_minor": 0
}
