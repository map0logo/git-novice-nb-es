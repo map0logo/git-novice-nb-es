{
 "cells": [
  {
   "cell_type": "markdown",
   "metadata": {},
   "source": [
    "# Creating a Repository\n",
    "\n",
    "Una vez que Git está configurado podemos comenzar a usarlo. Creemos un directorio para nuestro trabajo y entramos a ese directorio:\n",
    "\n",
    "```bash\n",
    "mkdir planets\n",
    "cd planets\n",
    "```\n",
    "\n",
    "Entonces le decimos a git para que haga de `planets` un **repositorio**, esto es, un lugar donde Git puede almacenar las versiones de nuestros archivos:\n",
    "\n",
    "```bash\n",
    "git init\n",
    "```\n",
    "\n",
    "Si usamos `ls` para ver el contenido del directorio, parece que nada ha cambiado:\n",
    "\n",
    "```bash\n",
    "ls\n",
    "```\n",
    "\n",
    "Pero si añadimos la bandera `-a` para que muestre todo, podemos ver que Git ha creado un directorio escondido dentro de `planets` llamado `.git`:\n",
    "\n",
    "```bash\n",
    "ls -a\n",
    "```\n",
    "\n",
    "```\n",
    ".\t..\t.git\n",
    "```\n",
    "\n",
    "Git almacena la información sobre el proyecto en este subdirectorio especial. Si alguna vez lo borramos, perderemos el historial del proyecto.\n",
    "\n",
    "Podemos verificar que todo está configurado correctamente pidiendo a Git que no diga cual es el status del proyecto:\n",
    "\n",
    "```bash\n",
    "$ git status\n",
    "```\n",
    "\n",
    "```\n",
    "# On branch master\n",
    "#\n",
    "# Initial commit\n",
    "#\n",
    "nothing to commit (create/copy files and use \"git add\" to track)\n",
    "```"
   ]
  },
  {
   "cell_type": "code",
   "execution_count": null,
   "metadata": {
    "collapsed": true
   },
   "outputs": [],
   "source": []
  }
 ],
 "metadata": {
  "kernelspec": {
   "display_name": "Python 3",
   "language": "python",
   "name": "python3"
  },
  "language_info": {
   "codemirror_mode": {
    "name": "ipython",
    "version": 3
   },
   "file_extension": ".py",
   "mimetype": "text/x-python",
   "name": "python",
   "nbconvert_exporter": "python",
   "pygments_lexer": "ipython3",
   "version": "3.5.1"
  }
 },
 "nbformat": 4,
 "nbformat_minor": 0
}
