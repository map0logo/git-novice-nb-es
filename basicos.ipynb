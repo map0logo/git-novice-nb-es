{
 "cells": [
  {
   "cell_type": "markdown",
   "metadata": {
    "collapsed": true
   },
   "source": [
    "# Conceptos básicos\n",
    "\n",
    "Los sistemas de control de versiones comienzan con una versión base del documento y entonces guarda únicamente los cambios que se han hecho en cada paso.\n",
    "\n",
    "![Los cambios son guardados secuencialmente](fig/play-changes.svg)\n",
    "\n",
    "Una vez que se piensan los cambios como separados del propio documento, se puede entender que conjuntos de cambios sobre el documento base producen distintas versiones del mismo documento.\n",
    "\n",
    "![Se pueden guardar versiones diferentes](fig/versions.svg)\n",
    "\n"
   ]
  },
  {
   "cell_type": "code",
   "execution_count": null,
   "metadata": {
    "collapsed": true
   },
   "outputs": [],
   "source": []
  }
 ],
 "metadata": {
  "kernelspec": {
   "display_name": "Python 3",
   "language": "python",
   "name": "python3"
  },
  "language_info": {
   "codemirror_mode": {
    "name": "ipython",
    "version": 3
   },
   "file_extension": ".py",
   "mimetype": "text/x-python",
   "name": "python",
   "nbconvert_exporter": "python",
   "pygments_lexer": "ipython3",
   "version": "3.5.1"
  }
 },
 "nbformat": 4,
 "nbformat_minor": 0
}
